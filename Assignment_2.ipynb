{
  "nbformat": 4,
  "nbformat_minor": 0,
  "metadata": {
    "colab": {
      "provenance": []
    },
    "kernelspec": {
      "name": "python3",
      "display_name": "Python 3"
    },
    "language_info": {
      "name": "python"
    }
  },
  "cells": [
    {
      "cell_type": "code",
      "execution_count": 2,
      "metadata": {
        "colab": {
          "base_uri": "https://localhost:8080/"
        },
        "id": "MgRrQwROxP9D",
        "outputId": "019fa902-c4cc-4d76-ab8b-a6e966b0db68"
      },
      "outputs": [
        {
          "output_type": "stream",
          "name": "stdout",
          "text": [
            "Final list is:  [10, 20, 30, 40, 50, 60, 70, 80, 100, 300]\n"
          ]
        }
      ],
      "source": [
        "L=[10,20,30,40,50,60,70,80]\n",
        "L.append(100)\n",
        "L.append(300)\n",
        "print(\"Final list is: \", L)"
      ]
    },
    {
      "cell_type": "code",
      "source": [
        "L.remove(10)\n",
        "L.remove(30)\n",
        "print(\"Final list is: \", L)"
      ],
      "metadata": {
        "colab": {
          "base_uri": "https://localhost:8080/"
        },
        "id": "bHiR4yj4xsFg",
        "outputId": "0c598ad2-2dd7-4c92-936c-f67720137526"
      },
      "execution_count": 3,
      "outputs": [
        {
          "output_type": "stream",
          "name": "stdout",
          "text": [
            "Final list is:  [20, 40, 50, 60, 70, 80, 100, 300]\n"
          ]
        }
      ]
    },
    {
      "cell_type": "code",
      "source": [
        "L.sort()\n",
        "print(\"List in ascending order: \", L)"
      ],
      "metadata": {
        "colab": {
          "base_uri": "https://localhost:8080/"
        },
        "id": "EEgGthLnx1wO",
        "outputId": "8cbfe2ff-1af1-46d7-bec0-aadaed7c9fb0"
      },
      "execution_count": 6,
      "outputs": [
        {
          "output_type": "stream",
          "name": "stdout",
          "text": [
            "List in ascending order:  [20, 40, 50, 60, 70, 80, 100, 300]\n"
          ]
        }
      ]
    },
    {
      "cell_type": "code",
      "source": [
        "L.reverse()\n",
        "print(\"List in descending order: \", L)"
      ],
      "metadata": {
        "colab": {
          "base_uri": "https://localhost:8080/"
        },
        "id": "DzHy9j3gyJbc",
        "outputId": "e2b3115e-5c94-4f0d-e3f1-c41c2231d50d"
      },
      "execution_count": 7,
      "outputs": [
        {
          "output_type": "stream",
          "name": "stdout",
          "text": [
            "List in descending order:  [300, 100, 80, 70, 60, 50, 40, 20]\n"
          ]
        }
      ]
    },
    {
      "cell_type": "code",
      "source": [
        "scores=(45,89.5,76,45.4,89,92,58,45)\n",
        "m=max(scores)\n",
        "f=scores.index(m)\n",
        "print(\"Highest marks: \", m)\n",
        "print(\"Index of\", m, \"is\", f)"
      ],
      "metadata": {
        "colab": {
          "base_uri": "https://localhost:8080/"
        },
        "id": "xcuoc9JRyNdj",
        "outputId": "70484cb8-09cb-4c17-dd3e-b7b0a98a0a89"
      },
      "execution_count": 12,
      "outputs": [
        {
          "output_type": "stream",
          "name": "stdout",
          "text": [
            "Highest marks:  92\n",
            "Index of 92 is 5\n"
          ]
        }
      ]
    },
    {
      "cell_type": "code",
      "source": [
        "n=min(scores)\n",
        "num=scores.count(n)\n",
        "print(\"Lowest score is: \", n)\n",
        "print(\"Number of times\", n, \"appears\", num, \"times\")"
      ],
      "metadata": {
        "colab": {
          "base_uri": "https://localhost:8080/"
        },
        "id": "vreAfkR4zW4G",
        "outputId": "fc7e947a-f8b4-4cf7-9e40-68cbd3a21515"
      },
      "execution_count": 13,
      "outputs": [
        {
          "output_type": "stream",
          "name": "stdout",
          "text": [
            "Lowest score is:  45\n",
            "Number of times 45 appears 2 times\n"
          ]
        }
      ]
    },
    {
      "cell_type": "code",
      "source": [
        "scores[::-1]\n",
        "print(\"Reversed tuple: \", scores)\n",
        "list1=list(scores)\n",
        "print(\"List is\", list1)"
      ],
      "metadata": {
        "colab": {
          "base_uri": "https://localhost:8080/"
        },
        "id": "boRyaw6O0bm-",
        "outputId": "8b8c5a03-ccfe-4293-cbac-9a9a4bdcdab0"
      },
      "execution_count": 15,
      "outputs": [
        {
          "output_type": "stream",
          "name": "stdout",
          "text": [
            "Reversed tuple:  (45, 89.5, 76, 45.4, 89, 92, 58, 45)\n",
            "List is [45, 89.5, 76, 45.4, 89, 92, 58, 45]\n"
          ]
        }
      ]
    },
    {
      "cell_type": "code",
      "source": [
        "a=int(input(\"Enter score to find: \"))\n",
        "len1=len(scores)\n",
        "flag=0\n",
        "for i in range(0, len1):\n",
        "  if a==scores[i]:\n",
        "    print(\"Element found at: \", scores.index(a))\n",
        "    flag=1\n",
        "    break\n",
        "\n",
        "else:\n",
        "    print(\"Element not found\")"
      ],
      "metadata": {
        "colab": {
          "base_uri": "https://localhost:8080/"
        },
        "id": "K-EDxlv00-hM",
        "outputId": "3fdfedca-fc9a-4773-c9af-2b38ee594cef"
      },
      "execution_count": 28,
      "outputs": [
        {
          "output_type": "stream",
          "name": "stdout",
          "text": [
            "Enter score to find: 89\n",
            "Element found at:  4\n"
          ]
        }
      ]
    },
    {
      "cell_type": "code",
      "source": [
        "import random\n",
        "list1=[]\n",
        "count1=0\n",
        "for i in range(0,100):\n",
        "  x=random.randint(100,900)\n",
        "  list1.append(x)\n",
        "print(\"Final list is: \", list1)\n",
        "print(\"Even numbers: \")\n",
        "for j in range(0,len(list1)):\n",
        "  if list1[j]%2==0:\n",
        "    print(list1[j])\n",
        "    count1=count1+1\n",
        "\n",
        "print(\"Number of even numbers: \", count1)\n"
      ],
      "metadata": {
        "colab": {
          "base_uri": "https://localhost:8080/"
        },
        "id": "ZtxA4IgH3YmE",
        "outputId": "7c44caf1-cecb-4999-f468-e63ee8d16118"
      },
      "execution_count": 5,
      "outputs": [
        {
          "output_type": "stream",
          "name": "stdout",
          "text": [
            "Final list is:  [653, 483, 419, 503, 280, 449, 832, 719, 171, 590, 167, 525, 298, 393, 145, 559, 222, 156, 781, 421, 140, 210, 442, 861, 873, 502, 360, 662, 490, 331, 165, 755, 735, 383, 235, 878, 868, 676, 110, 543, 398, 750, 333, 577, 831, 788, 267, 656, 825, 636, 777, 169, 516, 786, 538, 474, 773, 399, 402, 695, 794, 419, 264, 435, 220, 524, 208, 279, 308, 789, 446, 361, 379, 701, 263, 459, 645, 240, 831, 108, 427, 529, 437, 271, 298, 155, 555, 732, 621, 848, 253, 550, 470, 394, 590, 888, 660, 531, 679, 469]\n",
            "Even numbers: \n",
            "280\n",
            "832\n",
            "590\n",
            "298\n",
            "222\n",
            "156\n",
            "140\n",
            "210\n",
            "442\n",
            "502\n",
            "360\n",
            "662\n",
            "490\n",
            "878\n",
            "868\n",
            "676\n",
            "110\n",
            "398\n",
            "750\n",
            "788\n",
            "656\n",
            "636\n",
            "516\n",
            "786\n",
            "538\n",
            "474\n",
            "402\n",
            "794\n",
            "264\n",
            "220\n",
            "524\n",
            "208\n",
            "308\n",
            "446\n",
            "240\n",
            "108\n",
            "298\n",
            "732\n",
            "848\n",
            "550\n",
            "470\n",
            "394\n",
            "590\n",
            "888\n",
            "660\n",
            "Number of even numbers:  45\n"
          ]
        }
      ]
    },
    {
      "cell_type": "code",
      "source": [
        "import random\n",
        "list1=[]\n",
        "count1=0\n",
        "for i in range(0,100):\n",
        "  x=random.randint(100,900)\n",
        "  list1.append(x)\n",
        "count2=0\n",
        "print(\"Odd numbers: \")\n",
        "for j in range(0,len(list1)):\n",
        "  if list1[j]%2!=0:\n",
        "    print(list1[j])\n",
        "    count2=count2+1\n",
        "print(\"Number of odd numbers\", count2)"
      ],
      "metadata": {
        "colab": {
          "base_uri": "https://localhost:8080/"
        },
        "id": "VqeiHmeMBZZt",
        "outputId": "bfbbd7ae-2289-4a71-aa95-44500e667db3"
      },
      "execution_count": 6,
      "outputs": [
        {
          "output_type": "stream",
          "name": "stdout",
          "text": [
            "Odd numbers: \n",
            "807\n",
            "337\n",
            "791\n",
            "597\n",
            "159\n",
            "291\n",
            "575\n",
            "897\n",
            "455\n",
            "353\n",
            "147\n",
            "283\n",
            "475\n",
            "517\n",
            "761\n",
            "815\n",
            "737\n",
            "571\n",
            "129\n",
            "435\n",
            "555\n",
            "621\n",
            "439\n",
            "575\n",
            "169\n",
            "865\n",
            "673\n",
            "553\n",
            "701\n",
            "539\n",
            "141\n",
            "481\n",
            "667\n",
            "385\n",
            "799\n",
            "161\n",
            "647\n",
            "783\n",
            "539\n",
            "721\n",
            "327\n",
            "439\n",
            "833\n",
            "127\n",
            "151\n",
            "713\n",
            "299\n",
            "121\n",
            "811\n",
            "815\n",
            "657\n",
            "545\n",
            "489\n",
            "615\n",
            "703\n",
            "171\n",
            "631\n",
            "615\n",
            "217\n",
            "483\n",
            "665\n",
            "871\n",
            "Number of odd numbers 62\n"
          ]
        }
      ]
    },
    {
      "cell_type": "code",
      "source": [
        "import random\n",
        "list1=[]\n",
        "for i in range(0,100):\n",
        "  x=random.randint(100,900)\n",
        "  list1.append(x)\n",
        "count3=0\n",
        "print(\"Prime numebrs: \")\n",
        "for j in list1:\n",
        "  flag=True\n",
        "  for k in range(2,j):\n",
        "    if j%k==0:\n",
        "      flag=False\n",
        "  if flag:\n",
        "      print(j)\n",
        "      count3=count3+1\n",
        "print(\"Number of prime numbers: \", count3)\n"
      ],
      "metadata": {
        "colab": {
          "base_uri": "https://localhost:8080/"
        },
        "id": "iyCgwuLfBuQL",
        "outputId": "45100611-32c8-48f8-c046-7c6a3240b5bd"
      },
      "execution_count": 25,
      "outputs": [
        {
          "output_type": "stream",
          "name": "stdout",
          "text": [
            "Prime numebrs: \n",
            "569\n",
            "797\n",
            "461\n",
            "653\n",
            "547\n",
            "613\n",
            "173\n",
            "283\n",
            "509\n",
            "461\n",
            "191\n",
            "587\n",
            "181\n",
            "Number of prime numbers:  13\n"
          ]
        }
      ]
    },
    {
      "cell_type": "code",
      "source": [
        "A={34,56,78,90}\n",
        "B={78,45,90,23}\n",
        "C=A.union(B)\n",
        "print(\"Union of sets: \", C)\n"
      ],
      "metadata": {
        "colab": {
          "base_uri": "https://localhost:8080/"
        },
        "id": "vNxz-L8OI1Tu",
        "outputId": "2afe8a12-25dd-4e6e-e3d4-8ca0fcde396c"
      },
      "execution_count": 24,
      "outputs": [
        {
          "output_type": "stream",
          "name": "stdout",
          "text": [
            "Union of sets:  {34, 45, 78, 23, 56, 90}\n"
          ]
        }
      ]
    },
    {
      "cell_type": "code",
      "source": [
        "A={34,56,78,90}\n",
        "B={78,45,90,23}\n",
        "C=A.intersection(B)\n",
        "print(\"Intersection of sets: \", C)"
      ],
      "metadata": {
        "colab": {
          "base_uri": "https://localhost:8080/"
        },
        "id": "soBSTsR6KTMK",
        "outputId": "3acc2f14-ab16-4ec1-db79-05102a04da8c"
      },
      "execution_count": 25,
      "outputs": [
        {
          "output_type": "stream",
          "name": "stdout",
          "text": [
            "Intersection of sets:  {90, 78}\n"
          ]
        }
      ]
    },
    {
      "cell_type": "code",
      "source": [
        "A={34,56,78,90}\n",
        "B={78,45,90,23}\n",
        "C=A.symmetric_difference(B)\n",
        "print(\"Symmetric difference of sets: \", C)"
      ],
      "metadata": {
        "colab": {
          "base_uri": "https://localhost:8080/"
        },
        "id": "Q9nvF67wKnPp",
        "outputId": "60c5fadb-0406-4598-e895-b9116f1959d1"
      },
      "execution_count": 27,
      "outputs": [
        {
          "output_type": "stream",
          "name": "stdout",
          "text": [
            "Symmetric difference of sets:  {34, 45, 23, 56}\n"
          ]
        }
      ]
    },
    {
      "cell_type": "code",
      "source": [
        "A={34,56,78,90}\n",
        "B={78,45,90,23}\n",
        "C=A.issubset(B)\n",
        "if C==True:\n",
        "  print(\"A is a subset of B\")\n",
        "else:\n",
        "  print(\"A is not a subset of B\")"
      ],
      "metadata": {
        "colab": {
          "base_uri": "https://localhost:8080/"
        },
        "id": "8Rq7rDvtK_nR",
        "outputId": "e810912a-f655-4ee8-ae33-acefb6bbf519"
      },
      "execution_count": 28,
      "outputs": [
        {
          "output_type": "stream",
          "name": "stdout",
          "text": [
            "A is not a subset of B\n"
          ]
        }
      ]
    },
    {
      "cell_type": "code",
      "source": [
        "A={34,56,78,90}\n",
        "B={78,45,90,23}\n",
        "C=B.issuperset(A)\n",
        "if C==True:\n",
        "  print(\"B is the superset of A\")\n",
        "else:\n",
        "  print(\"B is not the superset of A\")"
      ],
      "metadata": {
        "colab": {
          "base_uri": "https://localhost:8080/"
        },
        "id": "ivCA8KJ7MDFY",
        "outputId": "fd526607-714e-49b5-b29e-af427dd702be"
      },
      "execution_count": 29,
      "outputs": [
        {
          "output_type": "stream",
          "name": "stdout",
          "text": [
            "B is not the superset of A\n"
          ]
        }
      ]
    },
    {
      "cell_type": "code",
      "source": [
        "A={34,56,78,90}\n",
        "B={78,45,90,23}\n",
        "flag=0\n",
        "a=int(input(\"Enter number to find\"))\n",
        "for i in A:\n",
        "  if a==i:\n",
        "    A.remove(a)\n",
        "    flag=1\n",
        "    break\n",
        "else:\n",
        "    print(\"Element does not exist\")\n",
        "\n",
        "print(\"Final set: \", A)\n"
      ],
      "metadata": {
        "colab": {
          "base_uri": "https://localhost:8080/"
        },
        "id": "zP5YK1EyMU4g",
        "outputId": "8c9ab99d-30d7-4e77-a423-812a6c3db06d"
      },
      "execution_count": 36,
      "outputs": [
        {
          "output_type": "stream",
          "name": "stdout",
          "text": [
            "Enter number to find78\n",
            "Final set:  {56, 34, 90}\n"
          ]
        }
      ]
    },
    {
      "cell_type": "code",
      "source": [
        "sample_dict={\"name\":\"Kelly\", \"age\": 25, \"salary\": 8000, \"city\": \"New York\"}\n",
        "sample_dict[\"location\"]=sample_dict.pop(\"city\")\n",
        "print(\"Final dictionary: \", sample_dict)"
      ],
      "metadata": {
        "colab": {
          "base_uri": "https://localhost:8080/"
        },
        "id": "4wsrYyHESzpf",
        "outputId": "08a5446b-5c2f-4739-c933-5fd32844efdf"
      },
      "execution_count": 38,
      "outputs": [
        {
          "output_type": "stream",
          "name": "stdout",
          "text": [
            "Final dictionary:  {'name': 'Kelly', 'age': 25, 'salary': 8000, 'location': 'New York'}\n"
          ]
        }
      ]
    }
  ]
}