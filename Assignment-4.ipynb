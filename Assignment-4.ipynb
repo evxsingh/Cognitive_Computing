{
  "nbformat": 4,
  "nbformat_minor": 0,
  "metadata": {
    "colab": {
      "provenance": []
    },
    "kernelspec": {
      "name": "python3",
      "display_name": "Python 3"
    },
    "language_info": {
      "name": "python"
    }
  },
  "cells": [
    {
      "cell_type": "code",
      "execution_count": 2,
      "metadata": {
        "colab": {
          "base_uri": "https://localhost:8080/"
        },
        "id": "6HOJaYOfuGBW",
        "outputId": "f4e43876-f335-4b6a-bf2d-00f990c1e7ee"
      },
      "outputs": [
        {
          "output_type": "stream",
          "name": "stdout",
          "text": [
            "[1 2 3 4 5]\n"
          ]
        }
      ],
      "source": [
        "import numpy as np\n",
        "arr=np.array([1,2,3,4,5])\n",
        "print(arr)"
      ]
    },
    {
      "cell_type": "code",
      "source": [
        "new=arr+2\n",
        "print(new)"
      ],
      "metadata": {
        "colab": {
          "base_uri": "https://localhost:8080/"
        },
        "id": "VdZHvv8mzV83",
        "outputId": "6491c20c-4a9b-453e-cf0a-405fa58f3ab9"
      },
      "execution_count": 3,
      "outputs": [
        {
          "output_type": "stream",
          "name": "stdout",
          "text": [
            "[3 4 5 6 7]\n"
          ]
        }
      ]
    },
    {
      "cell_type": "code",
      "source": [
        "new1=arr*3\n",
        "print(new1)"
      ],
      "metadata": {
        "colab": {
          "base_uri": "https://localhost:8080/"
        },
        "id": "6xm8Sy_Rz37Y",
        "outputId": "c4c16da3-c270-4044-9c6e-1a9e9f8f5910"
      },
      "execution_count": 4,
      "outputs": [
        {
          "output_type": "stream",
          "name": "stdout",
          "text": [
            "[ 3  6  9 12 15]\n"
          ]
        }
      ]
    },
    {
      "cell_type": "code",
      "source": [
        "new2=arr/2\n",
        "print(new2)"
      ],
      "metadata": {
        "colab": {
          "base_uri": "https://localhost:8080/"
        },
        "id": "htltAonp0JY3",
        "outputId": "c626bf66-18e4-4365-df70-08e09e9d682b"
      },
      "execution_count": 5,
      "outputs": [
        {
          "output_type": "stream",
          "name": "stdout",
          "text": [
            "[0.5 1.  1.5 2.  2.5]\n"
          ]
        }
      ]
    },
    {
      "cell_type": "code",
      "source": [
        "arr1=np.array([1,2,3,6,4,5])\n",
        "reversed=arr1[::-1]\n",
        "print(reversed)"
      ],
      "metadata": {
        "colab": {
          "base_uri": "https://localhost:8080/"
        },
        "id": "h4h1oD9b0eB5",
        "outputId": "3086bc99-2b74-4dbe-ca16-5bfbd2c93e0b"
      },
      "execution_count": 6,
      "outputs": [
        {
          "output_type": "stream",
          "name": "stdout",
          "text": [
            "[5 4 6 3 2 1]\n"
          ]
        }
      ]
    },
    {
      "cell_type": "code",
      "source": [
        "x=np.array([1,2,3,4,5,1,2,1,1,1])\n",
        "unique_elements, counts= np.unique(arr,return_counts=True)\n",
        "m1=np.argmax(counts)\n",
        "m2=unique_elements[m1]\n",
        "m2"
      ],
      "metadata": {
        "colab": {
          "base_uri": "https://localhost:8080/"
        },
        "id": "_aW7sUtXITW5",
        "outputId": "64c2f273-98bd-45e0-fdac-9d7151c93289"
      },
      "execution_count": 7,
      "outputs": [
        {
          "output_type": "execute_result",
          "data": {
            "text/plain": [
              "1"
            ]
          },
          "metadata": {},
          "execution_count": 7
        }
      ]
    },
    {
      "cell_type": "code",
      "source": [
        "y=np.array([1,1,1,2,3,4,2,4,3,3])\n",
        "unique_elements, counts=np.unique(arr,return_counts=True)\n",
        "m1=np.argmax(counts)\n",
        "m2=unique_elements[m1]\n",
        "m2"
      ],
      "metadata": {
        "colab": {
          "base_uri": "https://localhost:8080/"
        },
        "id": "xBjBvEKsXTEu",
        "outputId": "7767ddb7-2b4d-434e-e53c-36ddba7f02b2"
      },
      "execution_count": 8,
      "outputs": [
        {
          "output_type": "execute_result",
          "data": {
            "text/plain": [
              "1"
            ]
          },
          "metadata": {},
          "execution_count": 8
        }
      ]
    },
    {
      "cell_type": "code",
      "source": [
        "arr=np.array([[10,20,30], [40,50,60], [70,80,90]])\n",
        "a=arr[0,1]\n",
        "print(a)"
      ],
      "metadata": {
        "colab": {
          "base_uri": "https://localhost:8080/"
        },
        "id": "ctzC231DXv79",
        "outputId": "1d5d982b-0901-4dbf-e995-d8b2177bfb98"
      },
      "execution_count": 9,
      "outputs": [
        {
          "output_type": "stream",
          "name": "stdout",
          "text": [
            "20\n"
          ]
        }
      ]
    },
    {
      "cell_type": "code",
      "source": [
        "arr=np.array([[10,20,30], [40,50,60], [70,80,90]])\n",
        "b=arr[2,0]\n",
        "print(b)"
      ],
      "metadata": {
        "colab": {
          "base_uri": "https://localhost:8080/"
        },
        "id": "dH53cklpYZ5A",
        "outputId": "ffcfdd6b-1675-41b8-c95d-2c9bcdeb1a9f"
      },
      "execution_count": 10,
      "outputs": [
        {
          "output_type": "stream",
          "name": "stdout",
          "text": [
            "70\n"
          ]
        }
      ]
    },
    {
      "cell_type": "code",
      "source": [
        "import numpy as np\n",
        "y=np.linspace(10,100,25)\n",
        "print(y)\n",
        "\n",
        "dim=y.ndim\n",
        "print(\"Dimenions of the array: \", dim)\n",
        "\n",
        "shape=y.shape\n",
        "print(\"Shape of the array: \", shape)\n",
        "\n",
        "tot=y.size\n",
        "print(\"Total elements in the array:\",tot)\n",
        "\n",
        "data=y.dtype\n",
        "print(\"Data type: \", data)\n",
        "\n",
        "b=y.nbytes\n",
        "print(\"Total number of bytes: \", b)\n",
        "\n",
        "transpose=np.reshape(y, (25,1))\n",
        "print(\"Transpose: \", transpose)\n",
        "t=y.T\n",
        "print(t)\n"
      ],
      "metadata": {
        "colab": {
          "base_uri": "https://localhost:8080/"
        },
        "id": "RsJPrJaeYfhB",
        "outputId": "8f7cd4d6-297f-42d5-d7dd-03243d02abb7"
      },
      "execution_count": 13,
      "outputs": [
        {
          "output_type": "stream",
          "name": "stdout",
          "text": [
            "[ 10.    13.75  17.5   21.25  25.    28.75  32.5   36.25  40.    43.75\n",
            "  47.5   51.25  55.    58.75  62.5   66.25  70.    73.75  77.5   81.25\n",
            "  85.    88.75  92.5   96.25 100.  ]\n",
            "Dimenions of the array:  1\n",
            "Shape of the array:  (25,)\n",
            "Total elements in the array: 25\n",
            "Data type:  float64\n",
            "Total number of bytes:  200\n",
            "Transpose:  [[ 10.  ]\n",
            " [ 13.75]\n",
            " [ 17.5 ]\n",
            " [ 21.25]\n",
            " [ 25.  ]\n",
            " [ 28.75]\n",
            " [ 32.5 ]\n",
            " [ 36.25]\n",
            " [ 40.  ]\n",
            " [ 43.75]\n",
            " [ 47.5 ]\n",
            " [ 51.25]\n",
            " [ 55.  ]\n",
            " [ 58.75]\n",
            " [ 62.5 ]\n",
            " [ 66.25]\n",
            " [ 70.  ]\n",
            " [ 73.75]\n",
            " [ 77.5 ]\n",
            " [ 81.25]\n",
            " [ 85.  ]\n",
            " [ 88.75]\n",
            " [ 92.5 ]\n",
            " [ 96.25]\n",
            " [100.  ]]\n",
            "[ 10.    13.75  17.5   21.25  25.    28.75  32.5   36.25  40.    43.75\n",
            "  47.5   51.25  55.    58.75  62.5   66.25  70.    73.75  77.5   81.25\n",
            "  85.    88.75  92.5   96.25 100.  ]\n"
          ]
        }
      ]
    },
    {
      "cell_type": "code",
      "source": [
        "ucs420=([[10,20,30,40],[50,60,70,80],[90,15,20,35]])\n",
        "m1=np.mean(ucs420)\n",
        "print(\"Mean: \", m1)\n",
        "\n",
        "m2=np.median(ucs420)\n",
        "print(\"Median: \", m2)\n",
        "\n",
        "m3=np.max(ucs420)\n",
        "print(\"Maximum: \", m3)\n",
        "\n",
        "m4=np.min(ucs420)\n",
        "print(\"Minimum: \", m4)\n",
        "\n",
        "u=np.unique(ucs420)\n",
        "print(\"Unique elements: \", u)\n",
        "\n",
        "r1=np.reshape(ucs420, (4,3))\n",
        "print(\"Reshaped array: \", r1)\n",
        "\n",
        "r2=np.resize(ucs420, (2,3))\n",
        "print(\"Resized array: \", r2)"
      ],
      "metadata": {
        "colab": {
          "base_uri": "https://localhost:8080/"
        },
        "id": "v2thupxsbDz2",
        "outputId": "ae9517a1-84f8-4bd9-c9d6-cf2dbd6f0b7f"
      },
      "execution_count": 12,
      "outputs": [
        {
          "output_type": "stream",
          "name": "stdout",
          "text": [
            "Mean:  43.333333333333336\n",
            "Median:  37.5\n",
            "Maximum:  90\n",
            "Minimum:  10\n",
            "Unique elements:  [10 15 20 30 35 40 50 60 70 80 90]\n",
            "Reshaped array:  [[10 20 30]\n",
            " [40 50 60]\n",
            " [70 80 90]\n",
            " [15 20 35]]\n",
            "Resized array:  [[10 20 30]\n",
            " [40 50 60]]\n"
          ]
        }
      ]
    },
    {
      "cell_type": "code",
      "source": [
        "\n"
      ],
      "metadata": {
        "id": "fctf1AKGhjpI"
      },
      "execution_count": 12,
      "outputs": []
    }
  ]
}