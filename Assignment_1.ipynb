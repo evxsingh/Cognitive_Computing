{
  "nbformat": 4,
  "nbformat_minor": 0,
  "metadata": {
    "colab": {
      "provenance": []
    },
    "kernelspec": {
      "name": "python3",
      "display_name": "Python 3"
    },
    "language_info": {
      "name": "python"
    }
  },
  "cells": [
    {
      "cell_type": "code",
      "execution_count": null,
      "metadata": {
        "colab": {
          "base_uri": "https://localhost:8080/"
        },
        "id": "lVQoXpIXjw92",
        "outputId": "a5b76e14-e07a-4856-ebbb-800bf50335ee"
      },
      "outputs": [
        {
          "output_type": "stream",
          "name": "stdout",
          "text": [
            "Cognitive Computing\n"
          ]
        }
      ],
      "source": [
        "print(\"Cognitive Computing\")"
      ]
    },
    {
      "cell_type": "code",
      "source": [
        "a=int(input(\"Enter first number:\"))\n",
        "b=int(input(\"Enter second number: \"))\n",
        "sum=a+b\n",
        "print(\"Sum is:\", sum)"
      ],
      "metadata": {
        "colab": {
          "base_uri": "https://localhost:8080/"
        },
        "id": "tY-FW5vblW6n",
        "outputId": "6ecde6f0-4424-418f-d7ce-47c237b75474"
      },
      "execution_count": null,
      "outputs": [
        {
          "output_type": "stream",
          "name": "stdout",
          "text": [
            "Enter first number:12\n",
            "Enter second number: 12\n",
            "Sum is: 24\n"
          ]
        }
      ]
    },
    {
      "cell_type": "code",
      "source": [
        "a=input(\"Enter 1st string: \")\n",
        "b=input(\"Enter 2nd string: \")\n",
        "string1=a+b\n",
        "print(\"Final string is:\", string1)"
      ],
      "metadata": {
        "colab": {
          "base_uri": "https://localhost:8080/"
        },
        "id": "1uzytv9-lTY7",
        "outputId": "e4ac985e-0e49-4210-b666-e75f9e076f66"
      },
      "execution_count": null,
      "outputs": [
        {
          "output_type": "stream",
          "name": "stdout",
          "text": [
            "Enter 1st string: Hi\n",
            "Enter 2nd string: Welcome\n",
            "Final string is: HiWelcome\n"
          ]
        }
      ]
    },
    {
      "cell_type": "code",
      "source": [
        "a=input(\"Enter a string:\")\n",
        "b=input(\"Enter a number: \")\n",
        "final=a+str(b)\n",
        "print(\"Final string is: \", final)"
      ],
      "metadata": {
        "colab": {
          "base_uri": "https://localhost:8080/"
        },
        "id": "LFARpq_QlktP",
        "outputId": "fd9e5799-e9b2-4642-d9b0-c57609f5b188"
      },
      "execution_count": null,
      "outputs": [
        {
          "output_type": "stream",
          "name": "stdout",
          "text": [
            "Enter a string:Hello\n",
            "Enter a number: 20\n",
            "Final string is:  Hello20\n"
          ]
        }
      ]
    },
    {
      "cell_type": "code",
      "source": [
        "a=int(input(\"Enter a number: \"))\n",
        "if a>0:\n",
        "  print(\"Number is positive\")\n",
        "elif a<0:\n",
        "  print(\"Number is negative\")\n",
        "else:\n",
        "  print(\"Number is zero\")\n"
      ],
      "metadata": {
        "colab": {
          "base_uri": "https://localhost:8080/"
        },
        "id": "lj7V0Hi8l2ec",
        "outputId": "c69be845-6c3d-4e93-9a70-9577b45f18b6"
      },
      "execution_count": null,
      "outputs": [
        {
          "output_type": "stream",
          "name": "stdout",
          "text": [
            "Enter a number: 10\n",
            "Number is positive\n"
          ]
        }
      ]
    },
    {
      "cell_type": "code",
      "source": [
        "a=int(input(\"Enter a number: \"))\n",
        "if a%2==0:\n",
        "  print(\"Number is even\")\n",
        "else:\n",
        "  print(\"Number is odd\")\n"
      ],
      "metadata": {
        "colab": {
          "base_uri": "https://localhost:8080/"
        },
        "id": "tVqvavY2mcVz",
        "outputId": "2d37369e-8d1d-489c-b008-1a61cb4649b8"
      },
      "execution_count": null,
      "outputs": [
        {
          "output_type": "stream",
          "name": "stdout",
          "text": [
            "Enter a number: 23\n",
            "Number is odd\n"
          ]
        }
      ]
    },
    {
      "cell_type": "code",
      "source": [
        "for i in range(1,11):\n",
        "  print(i)"
      ],
      "metadata": {
        "colab": {
          "base_uri": "https://localhost:8080/"
        },
        "id": "RaVWq9BbmqFE",
        "outputId": "adc10d00-5eb1-4570-ba67-74d0a2b4a3ad"
      },
      "execution_count": null,
      "outputs": [
        {
          "output_type": "stream",
          "name": "stdout",
          "text": [
            "1\n",
            "2\n",
            "3\n",
            "4\n",
            "5\n",
            "6\n",
            "7\n",
            "8\n",
            "9\n",
            "10\n"
          ]
        }
      ]
    },
    {
      "cell_type": "code",
      "source": [
        "i=1\n",
        "while i<=10:\n",
        "  print(i)\n",
        "  i=i+1"
      ],
      "metadata": {
        "colab": {
          "base_uri": "https://localhost:8080/"
        },
        "id": "kjrzrMwJm8Hq",
        "outputId": "6cfaa573-196a-46c0-ed81-717a29125419"
      },
      "execution_count": null,
      "outputs": [
        {
          "output_type": "stream",
          "name": "stdout",
          "text": [
            "1\n",
            "2\n",
            "3\n",
            "4\n",
            "5\n",
            "6\n",
            "7\n",
            "8\n",
            "9\n",
            "10\n"
          ]
        }
      ]
    },
    {
      "cell_type": "code",
      "source": [
        "i=1\n",
        "sum=0\n",
        "while i<=100:\n",
        "  sum=sum+i\n",
        "  i=i+1\n",
        "\n",
        "print(\"Sum of number from 1-100 is: \", sum)"
      ],
      "metadata": {
        "colab": {
          "base_uri": "https://localhost:8080/"
        },
        "id": "JNnDfUS5nl3c",
        "outputId": "846fb40e-f108-4181-e77f-7ecf4d9d26bf"
      },
      "execution_count": null,
      "outputs": [
        {
          "output_type": "stream",
          "name": "stdout",
          "text": [
            "Sum of number from 1-100 is:  5050\n"
          ]
        }
      ]
    },
    {
      "cell_type": "code",
      "source": [
        "list1=[10,20,35,25,15]\n",
        "print(min(list1))\n",
        "print(max(list1))\n"
      ],
      "metadata": {
        "colab": {
          "base_uri": "https://localhost:8080/"
        },
        "id": "jA4gtZ7VoGFf",
        "outputId": "b9e3baa0-f7ef-4509-fc9c-8ca62e20c2b7"
      },
      "execution_count": null,
      "outputs": [
        {
          "output_type": "stream",
          "name": "stdout",
          "text": [
            "10\n",
            "35\n"
          ]
        }
      ]
    },
    {
      "cell_type": "code",
      "source": [
        "dict1={1:\"One\", 2:\"Two\", 3:\"Three\", 4:\"Four\"}\n",
        "a=int(input(\"Key value to retrieve:\"))\n",
        "dict1[a]"
      ],
      "metadata": {
        "colab": {
          "base_uri": "https://localhost:8080/",
          "height": 52
        },
        "id": "BT7sHczmo6gH",
        "outputId": "a41d60e4-3901-4aaa-ded2-e17830c6df4b"
      },
      "execution_count": null,
      "outputs": [
        {
          "name": "stdout",
          "output_type": "stream",
          "text": [
            "Key value to retrieve:2\n"
          ]
        },
        {
          "output_type": "execute_result",
          "data": {
            "text/plain": [
              "'Two'"
            ],
            "application/vnd.google.colaboratory.intrinsic+json": {
              "type": "string"
            }
          },
          "metadata": {},
          "execution_count": 23
        }
      ]
    },
    {
      "cell_type": "code",
      "source": [
        "l=[1,22,11,7,34]\n",
        "l.sort()\n",
        "print(\"Ascending order:\", l)\n",
        "l.reverse()\n",
        "print(\"Descending order\", l)"
      ],
      "metadata": {
        "colab": {
          "base_uri": "https://localhost:8080/"
        },
        "id": "W3jt8gI0pZy9",
        "outputId": "63aadf88-93c0-41d9-c5d4-ece8e01fb6e9"
      },
      "execution_count": null,
      "outputs": [
        {
          "output_type": "stream",
          "name": "stdout",
          "text": [
            "Ascending order: [1, 7, 11, 22, 34]\n",
            "Descending order [34, 22, 11, 7, 1]\n"
          ]
        }
      ]
    },
    {
      "cell_type": "code",
      "source": [
        "dict1={1:\"One\", 2:\"Two\", 3:\"Three\", 4:\"Four\"}\n",
        "dict2={5:\"Five\", 6:\"Six\", 7:\"Seven\"}\n",
        "dict3={}\n",
        "dict3.update(dict1)\n",
        "dict3.update(dict2)\n",
        "dict3"
      ],
      "metadata": {
        "colab": {
          "base_uri": "https://localhost:8080/"
        },
        "id": "ut_8cEdECrOy",
        "outputId": "5d7e2026-a14c-4146-9c32-d3a5ed067fc8"
      },
      "execution_count": null,
      "outputs": [
        {
          "output_type": "execute_result",
          "data": {
            "text/plain": [
              "{1: 'One', 2: 'Two', 3: 'Three', 4: 'Four', 5: 'Five', 6: 'Six', 7: 'Seven'}"
            ]
          },
          "metadata": {},
          "execution_count": 11
        }
      ]
    },
    {
      "cell_type": "code",
      "source": [
        "a=input(\"Enter a string: \")\n",
        "n=len(a)\n",
        "count=0\n",
        "for i in range(0,n):\n",
        "  if a[i]=='a' or a[i]=='e' or a[i]=='i' or a[i]=='o' or a[i]=='u':\n",
        "    count=count+1\n",
        "\n",
        "print(\"Number of vowels:\", count)\n"
      ],
      "metadata": {
        "colab": {
          "base_uri": "https://localhost:8080/"
        },
        "id": "J_9G7zfBE912",
        "outputId": "8446892a-dcd7-4ca0-d50a-dae9c108d8d7"
      },
      "execution_count": null,
      "outputs": [
        {
          "output_type": "stream",
          "name": "stdout",
          "text": [
            "Enter a string: Hello I was asleep\n",
            "Number of vowels: 6\n"
          ]
        }
      ]
    },
    {
      "cell_type": "code",
      "source": [
        "a=input(\"Enter a string: \")\n",
        "a[::-1]\n",
        "print(\"Reversed string is: \",a[::-1] )\n"
      ],
      "metadata": {
        "colab": {
          "base_uri": "https://localhost:8080/"
        },
        "id": "x5XipkiTHEBP",
        "outputId": "9da8cc21-3764-4434-b3d6-8d2273936b0e"
      },
      "execution_count": null,
      "outputs": [
        {
          "output_type": "stream",
          "name": "stdout",
          "text": [
            "Enter a string: Hello\n",
            "Reversed string is:  olleH\n"
          ]
        }
      ]
    },
    {
      "cell_type": "code",
      "source": [
        "a=input(\"Enter a string:\")\n",
        "if a==a[::-1]:\n",
        "  print(\"String is a palindrome\")\n",
        "else:\n",
        "  print(\"String is not a palindrome\")"
      ],
      "metadata": {
        "colab": {
          "base_uri": "https://localhost:8080/"
        },
        "id": "Lh9-EfPEH6gg",
        "outputId": "6d646e2a-9fc9-45f1-c819-00a34c985300"
      },
      "execution_count": null,
      "outputs": [
        {
          "output_type": "stream",
          "name": "stdout",
          "text": [
            "Enter a string:racecar\n",
            "String is a palindrome\n"
          ]
        }
      ]
    },
    {
      "cell_type": "code",
      "source": [
        "f=open(\"Assignment_1.txt\", \"w\")\n",
        "f.write(\"Hi, welcome!\")\n",
        "f.close()\n",
        "\n",
        "f=open(\"Assignment_1.txt\", \"r\")\n",
        "print(f.read())"
      ],
      "metadata": {
        "colab": {
          "base_uri": "https://localhost:8080/"
        },
        "id": "fOhq7FHsKnbU",
        "outputId": "f6b9b407-5eef-4118-96ab-6f7714addb59"
      },
      "execution_count": null,
      "outputs": [
        {
          "output_type": "stream",
          "name": "stdout",
          "text": [
            "Hi, welcome!\n"
          ]
        }
      ]
    },
    {
      "cell_type": "code",
      "source": [
        "f=open(\"Assignment_1.txt\", \"a\")\n",
        "f.write(\"Hello\")\n",
        "f.close()\n",
        "\n",
        "f=open(\"Assignment_1.txt\", \"r\")\n",
        "print(f.read())\n"
      ],
      "metadata": {
        "colab": {
          "base_uri": "https://localhost:8080/"
        },
        "id": "E3g6W1ngLwZK",
        "outputId": "c153b76a-d9a4-4364-9ab9-f3dfca469d22"
      },
      "execution_count": null,
      "outputs": [
        {
          "output_type": "stream",
          "name": "stdout",
          "text": [
            "Hi, welcome!Hello\n"
          ]
        }
      ]
    },
    {
      "cell_type": "code",
      "source": [
        "f=open(\"file1.txt\", \"r\")\n",
        "count=len(f.readlines())\n",
        "print(\"Total number of lines in file: \", count)"
      ],
      "metadata": {
        "colab": {
          "base_uri": "https://localhost:8080/"
        },
        "id": "WryEGg2KMV4u",
        "outputId": "a00d95ee-7e7a-4437-c238-10884b98c91a"
      },
      "execution_count": null,
      "outputs": [
        {
          "output_type": "stream",
          "name": "stdout",
          "text": [
            "Total number of lines in file:  0\n"
          ]
        }
      ]
    },
    {
      "cell_type": "code",
      "source": [
        "a=10\n",
        "try:\n",
        "  b=a/0\n",
        "except ZeroDivisionError:\n",
        "  print(\"Cannot divide by zero\")"
      ],
      "metadata": {
        "colab": {
          "base_uri": "https://localhost:8080/"
        },
        "id": "u6B5SSr_Y8s7",
        "outputId": "4aefcf56-ed4c-461e-933f-d824f951555b"
      },
      "execution_count": null,
      "outputs": [
        {
          "output_type": "stream",
          "name": "stdout",
          "text": [
            "Cannot divide by zero\n"
          ]
        }
      ]
    },
    {
      "cell_type": "code",
      "source": [
        "a=input(\"Enter number\")\n",
        "try:\n",
        "  x=int(\"a\")\n",
        "  b=1/x\n",
        "except ValueError:\n",
        "  print(\"Invalid input\")\n"
      ],
      "metadata": {
        "colab": {
          "base_uri": "https://localhost:8080/"
        },
        "id": "x-B1fuJsaYyA",
        "outputId": "9c0b5969-9db8-468e-e285-bad4491faf3a"
      },
      "execution_count": null,
      "outputs": [
        {
          "output_type": "stream",
          "name": "stdout",
          "text": [
            "Enter numberas\n",
            "Invalid input\n"
          ]
        }
      ]
    },
    {
      "cell_type": "code",
      "source": [
        "a=int(input(\"Enter number\"))\n",
        "n=int(input(\"Enter divisor\"))\n",
        "try:\n",
        "  b=a%n\n",
        "except ZeroDivisionError:\n",
        "  print(\"Cannot be divided by zero\")\n",
        "else:\n",
        "  print(\"Answer\", b)\n",
        "finally:\n",
        "  print(\"Code executed\")"
      ],
      "metadata": {
        "id": "xJATN82DbjN5",
        "colab": {
          "base_uri": "https://localhost:8080/"
        },
        "outputId": "c73fa7ce-634e-446f-ef40-ac28eef3832a"
      },
      "execution_count": null,
      "outputs": [
        {
          "output_type": "stream",
          "name": "stdout",
          "text": [
            "Enter number10\n",
            "Enter divisor0\n",
            "Cannot be divided by zero\n",
            "Code executed\n"
          ]
        }
      ]
    },
    {
      "cell_type": "code",
      "source": [
        "import random\n",
        "random.randint(0,100)"
      ],
      "metadata": {
        "colab": {
          "base_uri": "https://localhost:8080/"
        },
        "id": "4BcOZmj4IL6l",
        "outputId": "36813bd6-d160-4f58-c806-4e1fd7ff7efa"
      },
      "execution_count": null,
      "outputs": [
        {
          "output_type": "execute_result",
          "data": {
            "text/plain": [
              "28"
            ]
          },
          "metadata": {},
          "execution_count": 3
        }
      ]
    },
    {
      "cell_type": "code",
      "source": [
        "import random\n",
        "n=random.randint(0,10)\n",
        "print(n)\n",
        "for i in range(2,n):\n",
        "  if (n%i)==0:\n",
        "    print(\"Number is composite\")\n",
        "  else:\n",
        "    print(\"Number is prime\")\n",
        "    break"
      ],
      "metadata": {
        "colab": {
          "base_uri": "https://localhost:8080/"
        },
        "id": "cUzSi97su7Ex",
        "outputId": "dde69a13-b7c9-4929-d7e5-084dc2e056a2"
      },
      "execution_count": null,
      "outputs": [
        {
          "output_type": "stream",
          "name": "stdout",
          "text": [
            "7\n",
            "Number is prime\n"
          ]
        }
      ]
    },
    {
      "cell_type": "code",
      "source": [
        "import random\n",
        "n=random.randint(1,6)\n",
        "print(\"Number on dice\", n)"
      ],
      "metadata": {
        "colab": {
          "base_uri": "https://localhost:8080/"
        },
        "id": "mzQ0vSxWwmkt",
        "outputId": "0165b82c-8e60-4064-adc8-506b4224c087"
      },
      "execution_count": null,
      "outputs": [
        {
          "output_type": "stream",
          "name": "stdout",
          "text": [
            "Number on dice 3\n"
          ]
        }
      ]
    },
    {
      "cell_type": "code",
      "source": [
        "list1=[1,2,3,4,5,6]\n",
        "random.shuffle(list1)\n",
        "print(list1)"
      ],
      "metadata": {
        "colab": {
          "base_uri": "https://localhost:8080/"
        },
        "id": "io0Ci3UxxIy3",
        "outputId": "7f2918f4-a716-45c0-eff3-0bfe380396b0"
      },
      "execution_count": null,
      "outputs": [
        {
          "output_type": "stream",
          "name": "stdout",
          "text": [
            "[4, 3, 5, 1, 6, 2]\n"
          ]
        }
      ]
    },
    {
      "cell_type": "code",
      "source": [
        "list1=[1,2,3,4,5,6]\n",
        "random.choice(list1)\n"
      ],
      "metadata": {
        "colab": {
          "base_uri": "https://localhost:8080/"
        },
        "id": "TMUdq-6fxljI",
        "outputId": "e6434ba1-1e7f-439c-97d3-0b1c1cccf607"
      },
      "execution_count": null,
      "outputs": [
        {
          "output_type": "execute_result",
          "data": {
            "text/plain": [
              "4"
            ]
          },
          "metadata": {},
          "execution_count": 28
        }
      ]
    },
    {
      "cell_type": "code",
      "source": [
        "import string\n",
        "import random\n",
        "a=random.choice(string.ascii_letters)\n",
        "b=random.choice(string.digits)\n",
        "c=random.choice(string.punctuation)\n",
        "len=int(input(\"Enter lentgh of password\"))\n",
        "pass1=\" \"\n",
        "while i<len:\n",
        "  pass1=+a\n",
        "  pass1=+b\n",
        "  pass1=+c\n",
        "print(\"Random password is:\", pass1)\n"
      ],
      "metadata": {
        "id": "uWNsGNlPiyjH"
      },
      "execution_count": null,
      "outputs": []
    },
    {
      "cell_type": "code",
      "source": [
        "import random\n",
        "l1s=['Spades', 'Clubs', 'Hearts', 'Diamonds']\n",
        "l2s=['Ace','2','3','4','5','6','7','8','9','10', 'Jack', 'Queen', 'King']\n",
        "a=random.choice(l1s)\n",
        "b=random.choice(l2s)\n",
        "print(f\"{a} of {b}\")"
      ],
      "metadata": {
        "colab": {
          "base_uri": "https://localhost:8080/"
        },
        "id": "ur4Q0wdMzPJ6",
        "outputId": "10392228-03f4-459b-829e-ca366d75846d"
      },
      "execution_count": null,
      "outputs": [
        {
          "output_type": "stream",
          "name": "stdout",
          "text": [
            "Hearts of 4\n"
          ]
        }
      ]
    },
    {
      "cell_type": "code",
      "source": [
        "import sys\n",
        "sys.argv=[\"sum\", \"5\", \"8\", \"10\"]\n",
        "a=float(sys.argv[1])\n",
        "b=float(sys.argv[2])\n",
        "sum=a+b\n",
        "print(sum)"
      ],
      "metadata": {
        "colab": {
          "base_uri": "https://localhost:8080/"
        },
        "id": "nczSFOl7dzDP",
        "outputId": "0f7e2d02-0232-48e0-f694-bed021df20a7"
      },
      "execution_count": null,
      "outputs": [
        {
          "output_type": "stream",
          "name": "stdout",
          "text": [
            "13.0\n"
          ]
        }
      ]
    },
    {
      "cell_type": "code",
      "source": [
        "import sys\n",
        "str1=sys.argv[1]\n",
        "print(\"Length of the string is: \", len(str1))"
      ],
      "metadata": {
        "colab": {
          "base_uri": "https://localhost:8080/"
        },
        "id": "NpXMwmt6iCjP",
        "outputId": "4a5a6c43-27ca-48bd-dda3-44e39c9b63ee"
      },
      "execution_count": null,
      "outputs": [
        {
          "output_type": "stream",
          "name": "stdout",
          "text": [
            "Length of the string is:  1\n"
          ]
        }
      ]
    },
    {
      "cell_type": "code",
      "source": [
        "import math\n",
        "a=int(input(\"Enter a number:\"))\n",
        "s=math.sqrt(a)\n",
        "print(s)"
      ],
      "metadata": {
        "colab": {
          "base_uri": "https://localhost:8080/"
        },
        "id": "sARochFy4APM",
        "outputId": "98e09174-45a3-476a-9bf5-e68092c1d698"
      },
      "execution_count": null,
      "outputs": [
        {
          "output_type": "stream",
          "name": "stdout",
          "text": [
            "Enter a number:16\n",
            "4.0\n"
          ]
        }
      ]
    },
    {
      "cell_type": "code",
      "source": [
        "from datetime import date\n",
        "d=date.today()\n",
        "print(\"Today's date is:\", d)\n"
      ],
      "metadata": {
        "colab": {
          "base_uri": "https://localhost:8080/"
        },
        "id": "lBBX3Vs66GZi",
        "outputId": "8584ba06-a6f8-441c-b950-c545c2fa7fdf"
      },
      "execution_count": null,
      "outputs": [
        {
          "output_type": "stream",
          "name": "stdout",
          "text": [
            "Today's date is: 2025-01-15\n"
          ]
        }
      ]
    },
    {
      "cell_type": "code",
      "source": [
        "import os\n",
        "os.listdir()"
      ],
      "metadata": {
        "colab": {
          "base_uri": "https://localhost:8080/"
        },
        "id": "2-mb4n69AKCw",
        "outputId": "15f1c7f0-abbc-49a9-cdda-1bdf8b3a0589"
      },
      "execution_count": null,
      "outputs": [
        {
          "output_type": "execute_result",
          "data": {
            "text/plain": [
              "['.config', 'sample_data']"
            ]
          },
          "metadata": {},
          "execution_count": 48
        }
      ]
    },
    {
      "cell_type": "code",
      "source": [],
      "metadata": {
        "id": "K3hNKXasDaJL"
      },
      "execution_count": null,
      "outputs": []
    }
  ]
}