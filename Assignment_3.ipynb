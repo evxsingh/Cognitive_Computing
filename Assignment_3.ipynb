{
  "nbformat": 4,
  "nbformat_minor": 0,
  "metadata": {
    "colab": {
      "provenance": []
    },
    "kernelspec": {
      "name": "python3",
      "display_name": "Python 3"
    },
    "language_info": {
      "name": "python"
    }
  },
  "cells": [
    {
      "cell_type": "code",
      "execution_count": null,
      "metadata": {
        "colab": {
          "base_uri": "https://localhost:8080/"
        },
        "id": "lDoU4ZZbrHpP",
        "outputId": "e71949dc-3778-48ff-d574-98d0268262cf"
      },
      "outputs": [
        {
          "output_type": "stream",
          "name": "stdout",
          "text": [
            "   Tid Refund Marital Status  Taxable Income Cheat\n",
            "0    1    Yes         Single          125000    No\n",
            "1    2     No        Married          100000    No\n",
            "2    3     No         Single           70000    No\n",
            "3    4    Yes        Married          120000    No\n",
            "4    5     No       Divorced           95000   Yes\n",
            "5    6     No        Married           60000    No\n",
            "6    7    Yes       Divorced          220000    No\n",
            "7    8     No         Single           85000   Yes\n",
            "8    9     No        Married           75000    No\n",
            "9   10     No         Single           90000   Yes\n"
          ]
        }
      ],
      "source": [
        "import pandas as pd\n",
        "data={'Tid':[1,2,3,4,5,6,7,8,9,10],\n",
        "      'Refund': ['Yes','No','No','Yes','No','No','Yes','No','No','No'],\n",
        "      'Marital Status' : ['Single','Married','Single','Married','Divorced','Married','Divorced','Single','Married', 'Single'],\n",
        "      'Taxable Income' : [125000, 100000, 70000,120000,95000,60000,220000, 85000,75000,90000],\n",
        "      'Cheat':['No','No','No','No','Yes','No','No','Yes','No','Yes']}\n",
        "\n",
        "d=pd.DataFrame(data)\n",
        "print(d)"
      ]
    },
    {
      "cell_type": "code",
      "source": [
        "print(d.iloc[[0,4,7,8]])"
      ],
      "metadata": {
        "colab": {
          "base_uri": "https://localhost:8080/"
        },
        "id": "quNd6HgSwuCp",
        "outputId": "52a75dad-29ba-4ea0-d712-89deee572afd"
      },
      "execution_count": null,
      "outputs": [
        {
          "output_type": "stream",
          "name": "stdout",
          "text": [
            "   Tid Refund Marital Status  Taxable Income Cheat\n",
            "0    1    Yes         Single          125000    No\n",
            "4    5     No       Divorced           95000   Yes\n",
            "7    8     No         Single           85000   Yes\n",
            "8    9     No        Married           75000    No\n"
          ]
        }
      ]
    },
    {
      "cell_type": "code",
      "source": [
        "print(d.iloc[3:8])"
      ],
      "metadata": {
        "colab": {
          "base_uri": "https://localhost:8080/"
        },
        "id": "x1liUAzXzxxw",
        "outputId": "3a85b379-f169-4f76-9cb4-aab2a0277789"
      },
      "execution_count": null,
      "outputs": [
        {
          "output_type": "stream",
          "name": "stdout",
          "text": [
            "   sepal_length  sepal_width  petal_width species\n",
            "3           4.6          3.1          0.2  setosa\n",
            "4           5.0          3.6          0.2  setosa\n",
            "5           5.4          3.9          0.4  setosa\n",
            "6           4.6          3.4          0.3  setosa\n",
            "7           5.0          3.4          0.2  setosa\n"
          ]
        }
      ]
    },
    {
      "cell_type": "code",
      "source": [
        "print(d.iloc[4:9,2:5])"
      ],
      "metadata": {
        "colab": {
          "base_uri": "https://localhost:8080/"
        },
        "id": "6oP5auz90g95",
        "outputId": "e24ee1e4-2533-4b75-d2cd-3530df4d9808"
      },
      "execution_count": null,
      "outputs": [
        {
          "output_type": "stream",
          "name": "stdout",
          "text": [
            "   petal_width species\n",
            "4          0.2  setosa\n",
            "5          0.4  setosa\n",
            "6          0.3  setosa\n",
            "7          0.2  setosa\n",
            "8          0.2  setosa\n"
          ]
        }
      ]
    },
    {
      "cell_type": "code",
      "source": [
        "print(d.iloc[0:10,1:4])"
      ],
      "metadata": {
        "colab": {
          "base_uri": "https://localhost:8080/"
        },
        "id": "_WdmFcRh0nKK",
        "outputId": "c551743b-8428-4652-c35c-a1d5f86d0b9e"
      },
      "execution_count": null,
      "outputs": [
        {
          "output_type": "stream",
          "name": "stdout",
          "text": [
            "  Refund Marital Status  Taxable Income\n",
            "0    Yes         Single          125000\n",
            "1     No        Married          100000\n",
            "2     No         Single           70000\n",
            "3    Yes        Married          120000\n",
            "4     No       Divorced           95000\n",
            "5     No        Married           60000\n",
            "6    Yes       Divorced          220000\n",
            "7     No         Single           85000\n",
            "8     No        Married           75000\n",
            "9     No         Single           90000\n"
          ]
        }
      ]
    },
    {
      "cell_type": "code",
      "source": [
        "df_csv=pd.read_csv('https://raw.githubusercontent.com/mwaskom/seaborn-data/master/iris.csv')\n",
        "print(df_csv.head())"
      ],
      "metadata": {
        "colab": {
          "base_uri": "https://localhost:8080/"
        },
        "id": "HeO9jMWA05oe",
        "outputId": "0746b40e-ffdf-46f4-b065-d6a05139e07d"
      },
      "execution_count": null,
      "outputs": [
        {
          "output_type": "stream",
          "name": "stdout",
          "text": [
            "   sepal_length  sepal_width  petal_length  petal_width species\n",
            "0           5.1          3.5           1.4          0.2  setosa\n",
            "1           4.9          3.0           1.4          0.2  setosa\n",
            "2           4.7          3.2           1.3          0.2  setosa\n",
            "3           4.6          3.1           1.5          0.2  setosa\n",
            "4           5.0          3.6           1.4          0.2  setosa\n"
          ]
        }
      ]
    },
    {
      "cell_type": "code",
      "source": [
        "d=df_csv.drop(index=3)\n",
        "d=df_csv.drop(columns=df_csv.columns[2])\n",
        "print(d)"
      ],
      "metadata": {
        "colab": {
          "base_uri": "https://localhost:8080/"
        },
        "id": "YgRHBlnW2gzL",
        "outputId": "0031edec-3cd1-4f78-872e-1330540a6bd0"
      },
      "execution_count": null,
      "outputs": [
        {
          "output_type": "stream",
          "name": "stdout",
          "text": [
            "     sepal_length  sepal_width  petal_width    species\n",
            "0             5.1          3.5          0.2     setosa\n",
            "1             4.9          3.0          0.2     setosa\n",
            "2             4.7          3.2          0.2     setosa\n",
            "3             4.6          3.1          0.2     setosa\n",
            "4             5.0          3.6          0.2     setosa\n",
            "..            ...          ...          ...        ...\n",
            "145           6.7          3.0          2.3  virginica\n",
            "146           6.3          2.5          1.9  virginica\n",
            "147           6.5          3.0          2.0  virginica\n",
            "148           6.2          3.4          2.3  virginica\n",
            "149           5.9          3.0          1.8  virginica\n",
            "\n",
            "[150 rows x 4 columns]\n"
          ]
        }
      ]
    },
    {
      "cell_type": "code",
      "source": [
        "import pandas as pd\n",
        "data={'Employee_ID':[101,102,103,104,105],\n",
        "      'Name':['Alice', 'Bob', 'Charlie', 'Diana','Edward'],\n",
        "      'Department':['HR','IT','IT','Marketing','Sales'],\n",
        "      'Age':[29,34,41,28,38],\n",
        "      'Salary':[50000,70000,65000,55000,60000],\n",
        "      'Years':[4,8,10,3,12],\n",
        "      'Joining Date':['2020-03-15','2017-07-19','2013-06-01','2021-02-10','2010-11-25'],\n",
        "      'Gender':['Female','Male','Male','Female','Male'],\n",
        "      'Bonus':[5000,7000,6000,4500,5000],\n",
        "      'Rating':[4.5,4.0,3.8,4.7,3.5]\n",
        "}\n",
        "d=pd.DataFrame(data)\n",
        "print(d)"
      ],
      "metadata": {
        "colab": {
          "base_uri": "https://localhost:8080/"
        },
        "id": "SMz9WejJ4T5t",
        "outputId": "fd17aa5c-e609-4b87-c8b1-20827fbe09da"
      },
      "execution_count": 9,
      "outputs": [
        {
          "output_type": "stream",
          "name": "stdout",
          "text": [
            "   Employee_ID     Name Department  Age  Salary  Years Joining Date  Gender  \\\n",
            "0          101    Alice         HR   29   50000      4   2020-03-15  Female   \n",
            "1          102      Bob         IT   34   70000      8   2017-07-19    Male   \n",
            "2          103  Charlie         IT   41   65000     10   2013-06-01    Male   \n",
            "3          104    Diana  Marketing   28   55000      3   2021-02-10  Female   \n",
            "4          105   Edward      Sales   38   60000     12   2010-11-25    Male   \n",
            "\n",
            "   Bonus  Rating  \n",
            "0   5000     4.5  \n",
            "1   7000     4.0  \n",
            "2   6000     3.8  \n",
            "3   4500     4.7  \n",
            "4   5000     3.5  \n",
            "Shape:  (5, 10)\n"
          ]
        }
      ]
    },
    {
      "cell_type": "code",
      "source": [
        "print(\"Shape: \", d.shape)"
      ],
      "metadata": {
        "colab": {
          "base_uri": "https://localhost:8080/"
        },
        "id": "u8DThjtj782h",
        "outputId": "38ffe7a5-0431-474d-a72c-e68867d2fc14"
      },
      "execution_count": 10,
      "outputs": [
        {
          "output_type": "stream",
          "name": "stdout",
          "text": [
            "Shape:  (5, 10)\n"
          ]
        }
      ]
    },
    {
      "cell_type": "code",
      "source": [
        "print(d.info())"
      ],
      "metadata": {
        "colab": {
          "base_uri": "https://localhost:8080/"
        },
        "id": "K2rcRQFt8HxO",
        "outputId": "51bcb8fc-9cab-4d3a-851c-b2d3fff740e9"
      },
      "execution_count": null,
      "outputs": [
        {
          "output_type": "stream",
          "name": "stdout",
          "text": [
            "<class 'pandas.core.frame.DataFrame'>\n",
            "RangeIndex: 5 entries, 0 to 4\n",
            "Data columns (total 10 columns):\n",
            " #   Column        Non-Null Count  Dtype  \n",
            "---  ------        --------------  -----  \n",
            " 0   Employee_ID   5 non-null      int64  \n",
            " 1   Name          5 non-null      object \n",
            " 2   Department    5 non-null      object \n",
            " 3   Age           5 non-null      int64  \n",
            " 4   Salary        5 non-null      int64  \n",
            " 5   Years         5 non-null      int64  \n",
            " 6   Joining Date  5 non-null      object \n",
            " 7   Gender        5 non-null      object \n",
            " 8   Bonus         5 non-null      int64  \n",
            " 9   Rating        5 non-null      float64\n",
            "dtypes: float64(1), int64(5), object(4)\n",
            "memory usage: 532.0+ bytes\n",
            "None\n"
          ]
        }
      ]
    },
    {
      "cell_type": "code",
      "source": [
        "print(d.describe())"
      ],
      "metadata": {
        "colab": {
          "base_uri": "https://localhost:8080/"
        },
        "id": "fCuIuvNk8Qad",
        "outputId": "c465fc94-fbcd-4c7b-a881-818240e97e61"
      },
      "execution_count": null,
      "outputs": [
        {
          "output_type": "stream",
          "name": "stdout",
          "text": [
            "       Employee_ID        Age       Salary      Years   Bonus    Rating\n",
            "count     5.000000   5.000000      5.00000   5.000000     5.0  5.000000\n",
            "mean    103.000000  34.000000  60000.00000   7.400000  5500.0  4.100000\n",
            "std       1.581139   5.612486   7905.69415   3.847077  1000.0  0.494975\n",
            "min     101.000000  28.000000  50000.00000   3.000000  4500.0  3.500000\n",
            "25%     102.000000  29.000000  55000.00000   4.000000  5000.0  3.800000\n",
            "50%     103.000000  34.000000  60000.00000   8.000000  5000.0  4.000000\n",
            "75%     104.000000  38.000000  65000.00000  10.000000  6000.0  4.500000\n",
            "max     105.000000  41.000000  70000.00000  12.000000  7000.0  4.700000\n"
          ]
        }
      ]
    },
    {
      "cell_type": "code",
      "source": [
        "print(d.iloc[0:5,7:10])"
      ],
      "metadata": {
        "colab": {
          "base_uri": "https://localhost:8080/"
        },
        "id": "D0QSku7_8VVC",
        "outputId": "ab342163-407a-4237-b63d-6eac3e2e05c7"
      },
      "execution_count": null,
      "outputs": [
        {
          "output_type": "stream",
          "name": "stdout",
          "text": [
            "   Gender  Bonus  Rating\n",
            "0  Female   5000     4.5\n",
            "1    Male   7000     4.0\n",
            "2    Male   6000     3.8\n",
            "3  Female   4500     4.7\n",
            "4    Male   5000     3.5\n"
          ]
        }
      ]
    },
    {
      "cell_type": "code",
      "source": [
        "print(\"Average Salary: \", d[\"Salary\"].mean())"
      ],
      "metadata": {
        "colab": {
          "base_uri": "https://localhost:8080/"
        },
        "id": "yRQmo8bo8i9w",
        "outputId": "c865758c-213d-48c6-8789-bd711d93c313"
      },
      "execution_count": null,
      "outputs": [
        {
          "output_type": "stream",
          "name": "stdout",
          "text": [
            "Average Salary:  60000.0\n"
          ]
        }
      ]
    },
    {
      "cell_type": "code",
      "source": [
        "print(\"Total bonus: \", d[\"Bonus\"].sum())"
      ],
      "metadata": {
        "colab": {
          "base_uri": "https://localhost:8080/"
        },
        "id": "1t4XroUn9NxX",
        "outputId": "16c9ca67-b515-4889-a28f-0f608e7e97c2"
      },
      "execution_count": null,
      "outputs": [
        {
          "output_type": "stream",
          "name": "stdout",
          "text": [
            "Total bonus:  27500\n"
          ]
        }
      ]
    },
    {
      "cell_type": "code",
      "source": [
        "print(\"Youngest employee's age: \", d[\"Age\"].min())"
      ],
      "metadata": {
        "colab": {
          "base_uri": "https://localhost:8080/"
        },
        "id": "BsrWxmJc9V-C",
        "outputId": "1ebf5b8d-4637-492a-b8bf-1f89871fdb08"
      },
      "execution_count": null,
      "outputs": [
        {
          "output_type": "stream",
          "name": "stdout",
          "text": [
            "Youngest employee's age:  28\n"
          ]
        }
      ]
    },
    {
      "cell_type": "code",
      "source": [
        "print(\"Highest performance rating: \", d[\"Rating\"].max())"
      ],
      "metadata": {
        "colab": {
          "base_uri": "https://localhost:8080/"
        },
        "id": "AUbwOv8Q9hrH",
        "outputId": "2e2ef6d2-2937-4fba-9ad1-f4b117ffbc3c"
      },
      "execution_count": null,
      "outputs": [
        {
          "output_type": "stream",
          "name": "stdout",
          "text": [
            "Highest performance rating:  4.7\n"
          ]
        }
      ]
    },
    {
      "cell_type": "code",
      "source": [
        "sort=d.sort_values(by=\"Salary\", ascending=False)\n",
        "print(sort)"
      ],
      "metadata": {
        "colab": {
          "base_uri": "https://localhost:8080/"
        },
        "id": "k4Vyuual9qnR",
        "outputId": "f2889897-c834-4e25-f156-99dafd14e17d"
      },
      "execution_count": null,
      "outputs": [
        {
          "output_type": "stream",
          "name": "stdout",
          "text": [
            "   Employee_ID     Name Department  Age  Salary  Years Joining Date  Gender  \\\n",
            "1          102      Bob         IT   34   70000      8   2017-07-19    Male   \n",
            "2          103  Charlie         IT   41   65000     10   2013-06-01    Male   \n",
            "4          105   Edward      Sales   38   60000     12   2010-11-25    Male   \n",
            "3          104    Diana  Marketing   28   55000      3   2021-02-10  Female   \n",
            "0          101    Alice         HR   29   50000      4   2020-03-15  Female   \n",
            "\n",
            "   Bonus  Rating  \n",
            "1   7000     4.0  \n",
            "2   6000     3.8  \n",
            "4   5000     3.5  \n",
            "3   4500     4.7  \n",
            "0   5000     4.5  \n"
          ]
        }
      ]
    },
    {
      "cell_type": "code",
      "source": [
        "d[\"Performance\"]=pd.cut(\n",
        "    d[\"Rating\"],\n",
        "    bins=[0,4.0,4.5,5],\n",
        "    labels=[\"Average\",\"Good\",\"Excellent\"]\n",
        ")\n",
        "print(d[[\"Name\", \"Performance\"]])"
      ],
      "metadata": {
        "colab": {
          "base_uri": "https://localhost:8080/"
        },
        "id": "iUyKGl_k_H-J",
        "outputId": "56923d35-e796-4511-d1ee-04dfde41611b"
      },
      "execution_count": 11,
      "outputs": [
        {
          "output_type": "stream",
          "name": "stdout",
          "text": [
            "      Name Performance\n",
            "0    Alice        Good\n",
            "1      Bob     Average\n",
            "2  Charlie     Average\n",
            "3    Diana   Excellent\n",
            "4   Edward     Average\n"
          ]
        }
      ]
    },
    {
      "cell_type": "code",
      "source": [
        "print(d.isnull().sum())"
      ],
      "metadata": {
        "colab": {
          "base_uri": "https://localhost:8080/"
        },
        "id": "7Gh4v6AMAb4O",
        "outputId": "acee1850-ed7f-4630-e55b-7cf236ce6005"
      },
      "execution_count": null,
      "outputs": [
        {
          "output_type": "stream",
          "name": "stdout",
          "text": [
            "Employee_ID     0\n",
            "Name            0\n",
            "Department      0\n",
            "Age             0\n",
            "Salary          0\n",
            "Years           0\n",
            "Joining Date    0\n",
            "Gender          0\n",
            "Bonus           0\n",
            "Rating          0\n",
            "Tax             0\n",
            "Performance     0\n",
            "dtype: int64\n"
          ]
        }
      ]
    },
    {
      "cell_type": "code",
      "source": [
        "df=d.rename(columns={'Employee ID':'ID'})\n",
        "print(df)"
      ],
      "metadata": {
        "colab": {
          "base_uri": "https://localhost:8080/"
        },
        "id": "8dd3UAfRAru6",
        "outputId": "bcb8533c-43f8-402a-f56c-6e8a85da6632"
      },
      "execution_count": 12,
      "outputs": [
        {
          "output_type": "stream",
          "name": "stdout",
          "text": [
            "   Employee_ID     Name Department  Age  Salary  Years Joining Date  Gender  \\\n",
            "0          101    Alice         HR   29   50000      4   2020-03-15  Female   \n",
            "1          102      Bob         IT   34   70000      8   2017-07-19    Male   \n",
            "2          103  Charlie         IT   41   65000     10   2013-06-01    Male   \n",
            "3          104    Diana  Marketing   28   55000      3   2021-02-10  Female   \n",
            "4          105   Edward      Sales   38   60000     12   2010-11-25    Male   \n",
            "\n",
            "   Bonus  Rating Performance  \n",
            "0   5000     4.5        Good  \n",
            "1   7000     4.0     Average  \n",
            "2   6000     3.8     Average  \n",
            "3   4500     4.7   Excellent  \n",
            "4   5000     3.5     Average  \n"
          ]
        }
      ]
    },
    {
      "cell_type": "code",
      "source": [
        "filtered=d[(d[\"Years\"]>5) & (d[\"Department\"] == \"IT\")]\n",
        "print(filtered)"
      ],
      "metadata": {
        "colab": {
          "base_uri": "https://localhost:8080/"
        },
        "id": "Yt5kEmTbRUA2",
        "outputId": "28abe6d1-447a-4496-9c4a-14d8e53aba62"
      },
      "execution_count": 13,
      "outputs": [
        {
          "output_type": "stream",
          "name": "stdout",
          "text": [
            "   Employee_ID     Name Department  Age  Salary  Years Joining Date Gender  \\\n",
            "1          102      Bob         IT   34   70000      8   2017-07-19   Male   \n",
            "2          103  Charlie         IT   41   65000     10   2013-06-01   Male   \n",
            "\n",
            "   Bonus  Rating Performance  \n",
            "1   7000     4.0     Average  \n",
            "2   6000     3.8     Average  \n"
          ]
        }
      ]
    },
    {
      "cell_type": "code",
      "source": [
        "d[\"Tax\"]=d[\"Salary\"]*0.1\n",
        "print(d)"
      ],
      "metadata": {
        "id": "fbBScZPVSL-d",
        "colab": {
          "base_uri": "https://localhost:8080/"
        },
        "outputId": "1dc353a1-32c6-4e51-cf72-50dd1b7e2629"
      },
      "execution_count": 14,
      "outputs": [
        {
          "output_type": "stream",
          "name": "stdout",
          "text": [
            "   Employee_ID     Name Department  Age  Salary  Years Joining Date  Gender  \\\n",
            "0          101    Alice         HR   29   50000      4   2020-03-15  Female   \n",
            "1          102      Bob         IT   34   70000      8   2017-07-19    Male   \n",
            "2          103  Charlie         IT   41   65000     10   2013-06-01    Male   \n",
            "3          104    Diana  Marketing   28   55000      3   2021-02-10  Female   \n",
            "4          105   Edward      Sales   38   60000     12   2010-11-25    Male   \n",
            "\n",
            "   Bonus  Rating Performance     Tax  \n",
            "0   5000     4.5        Good  5000.0  \n",
            "1   7000     4.0     Average  7000.0  \n",
            "2   6000     3.8     Average  6500.0  \n",
            "3   4500     4.7   Excellent  5500.0  \n",
            "4   5000     3.5     Average  6000.0  \n"
          ]
        }
      ]
    },
    {
      "cell_type": "code",
      "source": [
        "d.to_csv(\"Modified_Employees.csv\", index=False)\n",
        "print(\"Dataframe saved\")"
      ],
      "metadata": {
        "colab": {
          "base_uri": "https://localhost:8080/"
        },
        "id": "XzS_KEaHV66P",
        "outputId": "9bcdd81b-33ac-40f3-8409-be12e2855dc1"
      },
      "execution_count": 15,
      "outputs": [
        {
          "output_type": "stream",
          "name": "stdout",
          "text": [
            "Dataframe saved\n"
          ]
        }
      ]
    }
  ]
}