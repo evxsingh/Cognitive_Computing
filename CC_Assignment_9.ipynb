{
 "cells": [
  {
   "cell_type": "code",
   "execution_count": 1,
   "id": "3c6b7801",
   "metadata": {},
   "outputs": [
    {
     "name": "stderr",
     "output_type": "stream",
     "text": [
      "[nltk_data] Downloading package punkt to\n",
      "[nltk_data]     C:\\Users\\lenovo\\AppData\\Roaming\\nltk_data...\n",
      "[nltk_data]   Package punkt is already up-to-date!\n",
      "[nltk_data] Downloading package stopwords to\n",
      "[nltk_data]     C:\\Users\\lenovo\\AppData\\Roaming\\nltk_data...\n",
      "[nltk_data]   Package stopwords is already up-to-date!\n",
      "[nltk_data] Downloading package wordnet to\n",
      "[nltk_data]     C:\\Users\\lenovo\\AppData\\Roaming\\nltk_data...\n",
      "[nltk_data]   Package wordnet is already up-to-date!\n",
      "[nltk_data] Downloading package punkt_tab to\n",
      "[nltk_data]     C:\\Users\\lenovo\\AppData\\Roaming\\nltk_data...\n",
      "[nltk_data]   Package punkt_tab is already up-to-date!\n"
     ]
    },
    {
     "data": {
      "text/plain": [
       "True"
      ]
     },
     "execution_count": 1,
     "metadata": {},
     "output_type": "execute_result"
    }
   ],
   "source": [
    "import nltk\n",
    "import re\n",
    "import string\n",
    "from nltk.tokenize import word_tokenize, sent_tokenize\n",
    "from nltk.corpus import stopwords\n",
    "from nltk.stem import PorterStemmer, LancasterStemmer, WordNetLemmatizer\n",
    "from nltk import FreqDist\n",
    "\n",
    "nltk.download('punkt')\n",
    "nltk.download('stopwords')\n",
    "nltk.download('wordnet')\n",
    "nltk.download('punkt_tab')"
   ]
  },
  {
   "cell_type": "code",
   "execution_count": 3,
   "id": "0becfb6b",
   "metadata": {},
   "outputs": [
    {
     "name": "stdout",
     "output_type": "stream",
     "text": [
      "Cleaned text:  i love painting and reading they help me relax and make me happy it helps me reflect and respond in color and texture both activities require focus and attention\n",
      "Text after word tokenization:  ['i', 'love', 'painting', 'and', 'reading', 'they', 'help', 'me', 'relax', 'and', 'make', 'me', 'happy', 'it', 'helps', 'me', 'reflect', 'and', 'respond', 'in', 'color', 'and', 'texture', 'both', 'activities', 'require', 'focus', 'and', 'attention']\n",
      "Text after sentence tokenization:  ['I love painting and reading.', 'They help me relax and make me happy.', 'It helps me reflect and respond in color and texture.', 'Both activities require focus and attention.']\n",
      "Text after tokenization done using split() ['I', 'love', 'painting', 'and', 'reading.', 'They', 'help', 'me', 'relax', 'and', 'make', 'me', 'happy.', 'It', 'helps', 'me', 'reflect', 'and', 'respond', 'in', 'color', 'and', 'texture.', 'Both', 'activities', 'require', 'focus', 'and', 'attention.']\n",
      "Text after tokenization done using split() ['I', 'love', 'painting', 'and', 'reading.', 'They', 'help', 'me', 'relax', 'and', 'make', 'me', 'happy.', 'It', 'helps', 'me', 'reflect', 'and', 'respond', 'in', 'color', 'and', 'texture.', 'Both', 'activities', 'require', 'focus', 'and', 'attention.']\n",
      "Filtered Words: ['love', 'painting', 'reading', 'help', 'relax', 'make', 'happy', 'helps', 'reflect', 'respond', 'color', 'texture', 'activities', 'require', 'focus', 'attention']\n"
     ]
    },
    {
     "data": {
      "text/plain": [
       "<Axes: title={'center': 'Top Words'}, xlabel='Samples', ylabel='Counts'>"
      ]
     },
     "execution_count": 3,
     "metadata": {},
     "output_type": "execute_result"
    },
    {
     "data": {
      "image/png": "[encoded data removed]",
      "text/plain": [
       "<Figure size 640x480 with 1 Axes>"
      ]
     },
     "metadata": {},
     "output_type": "display_data"
    }
   ],
   "source": [
    "text='I love painting and reading. They help me relax and make me happy. It helps me reflect and respond in color and texture. Both activities require focus and attention.'\n",
    "text_lower=text.lower()\n",
    "text_clean=text_lower.translate(str.maketrans('', '', string.punctuation))\n",
    "print(\"Cleaned text: \", text_clean)\n",
    "\n",
    "word_tokens=word_tokenize(text_clean)\n",
    "sent_tokens=sent_tokenize(text)\n",
    "\n",
    "print(\"Text after word tokenization: \", word_tokens)\n",
    "print(\"Text after sentence tokenization: \", sent_tokens)\n",
    "\n",
    "sent_split=text.split()\n",
    "print(\"Text after tokenization done using split()\", sent_split)\n",
    "\n",
    "sent_split=text.split()\n",
    "print(\"Text after tokenization done using split()\", sent_split)\n",
    "\n",
    "stop_words = set(stopwords.words('english'))\n",
    "filter= [i for i in word_tokens if i.lower() not in stop_words]\n",
    "print(\"Filtered Words:\", filter)\n",
    "\n",
    "fd = FreqDist(filter)\n",
    "fd.plot(10, title=\"Top Words\")"
   ]
  },
  {
   "cell_type": "code",
   "execution_count": 4,
   "id": "15b80ad0",
   "metadata": {},
   "outputs": [
    {
     "name": "stdout",
     "output_type": "stream",
     "text": [
      "['I', 'love', 'painting', 'and', 'reading', 'They', 'help', 'me', 'relax', 'and', 'make', 'me', 'happy', 'It', 'helps', 'me', 'reflect', 'and', 'respond', 'in', 'color', 'and', 'texture', 'Both', 'activities', 'require', 'focus', 'and', 'attention']\n",
      "Stemmed words:  ['love', 'paint', 'read', 'help', 'relax', 'make', 'happi', 'help', 'reflect', 'respond', 'color', 'textur', 'activ', 'requir', 'focu', 'attent']\n",
      "Lemmatized words:  ['love', 'painting', 'reading', 'help', 'relax', 'make', 'happy', 'help', 'reflect', 'respond', 'color', 'texture', 'activity', 'require', 'focus', 'attention']\n"
     ]
    }
   ],
   "source": [
    "only_alpha = re.findall(r'\\b[a-zA-Z]+\\b', text)\n",
    "print(only_alpha)\n",
    "ps=PorterStemmer()\n",
    "stemmed=[ps.stem(i) for i in filter]\n",
    "print(\"Stemmed words: \", stemmed)\n",
    "\n",
    "l=WordNetLemmatizer()\n",
    "lemmatized=[l.lemmatize(i.lower()) for i in filter]\n",
    "print(\"Lemmatized words: \", lemmatized)\n"
   ]
  },
  {
   "cell_type": "code",
   "execution_count": 7,
   "id": "d73c7865",
   "metadata": {},
   "outputs": [
    {
     "name": "stdout",
     "output_type": "stream",
     "text": [
      "Words with more than 5 letters: ['painting', 'reading', 'reflect', 'respond', 'texture', 'activities', 'require', 'attention']\n",
      "Numbers in the text: []\n",
      "Capitalized words: ['I', 'They', 'It', 'Both']\n"
     ]
    }
   ],
   "source": [
    "long_words = re.findall(r'\\b\\w{6,}\\b', text)\n",
    "print(\"Words with more than 5 letters:\", long_words)\n",
    "\n",
    "numbers = re.findall(r'\\d+', text)\n",
    "print(\"Numbers in the text:\", numbers)\n",
    "\n",
    "capitalized_words = re.findall(r'\\b[A-Z][a-z]*\\b', text)\n",
    "print(\"Capitalized words:\", capitalized_words)"
   ]
  },
  {
   "cell_type": "code",
   "execution_count": 8,
   "id": "dbbd7da9",
   "metadata": {},
   "outputs": [
    {
     "name": "stdout",
     "output_type": "stream",
     "text": [
      "Words containing only alphabets: ['I', 'love', 'painting', 'and', 'reading', 'They', 'help', 'me', 'relax', 'and', 'make', 'me', 'happy', 'It', 'helps', 'me', 'reflect', 'and', 'respond', 'in', 'color', 'and', 'texture', 'Both', 'activities', 'require', 'focus', 'and', 'attention']\n",
      "Words starting with a vowel: ['I', 'and', 'and', 'It', 'and', 'in', 'and', 'activities', 'and', 'attention']\n"
     ]
    }
   ],
   "source": [
    "words_only = re.findall(r'[a-zA-Z]+', text)\n",
    "print(\"Words containing only alphabets:\", words_only)\n",
    "\n",
    "vowel_words = [i for i in words_only if i[0].lower() in 'aeiou']\n",
    "print(\"Words starting with a vowel:\", vowel_words)"
   ]
  },
  {
   "cell_type": "code",
   "execution_count": 9,
   "id": "9d947b3f",
   "metadata": {},
   "outputs": [
    {
     "name": "stdout",
     "output_type": "stream",
     "text": [
      "Tokens: ['I', 'love', 'painting', 'and', 'reading', 'They', 'help', 'me', 'relax', 'and', 'make', 'me', 'happy', 'It', 'helps', 'me', 'reflect', 'and', 'respond', 'in', 'color', 'and', 'texture', 'Both', 'activities', 'require', 'focus', 'and', 'attention']\n"
     ]
    }
   ],
   "source": [
    "text = re.sub(r\"[^\\w\\s'-]\", \"\", text)\n",
    "\n",
    "text = re.sub(r'\\b([a-zA-Z]+(?:-[a-zA-Z]+)+)\\b', r'\\1', text)\n",
    "\n",
    "text = re.sub(r'(\\d+\\.\\d+|\\d+)', r' \\1 ',text)\n",
    "\n",
    "tokens = text.split()\n",
    "print(\"Tokens:\", tokens)"
   ]
  },
  {
   "cell_type": "code",
   "execution_count": 10,
   "id": "83b2496b",
   "metadata": {},
   "outputs": [
    {
     "name": "stdout",
     "output_type": "stream",
     "text": [
      "\n",
      "Modified Text: Contact me at <EMAIL> or call +<PHONE>\n"
     ]
    }
   ],
   "source": [
    "text1= \"Contact me at xyz@example.com or call +91 8887770999\"\n",
    "\n",
    "text1 = re.sub(r'\\b[A-Za-z0-9._%+-]+@[A-Za-z0-9.-]+\\.[A-Za-z]{2,}\\b', '<EMAIL>', text1)\n",
    "\n",
    "text1 = re.sub(r'http[s]?://(?:[a-zA-Z]|[0-9]|[$-_@.&+]|[!*\\\\(\\\\),]|(?:%[0-9a-fA-F][0-9a-fA-F]))+', '<URL>', text1)\n",
    "\n",
    "text1 = re.sub(r'\\b(\\+?\\d{1,2}\\s?)?(\\(?\\d{3}\\)?[-.\\s]?)?(\\d{3})[-.\\s]?(\\d{4})\\b', '<PHONE>', text1)\n",
    "\n",
    "print(\"\\nModified Text:\", text1)"
   ]
  }
 ],
 "metadata": {
  "kernelspec": {
   "display_name": "tf",
   "language": "python",
   "name": "python3"
  },
  "language_info": {
   "codemirror_mode": {
    "name": "ipython",
    "version": 3
   },
   "file_extension": ".py",
   "mimetype": "text/x-python",
   "name": "python",
   "nbconvert_exporter": "python",
   "pygments_lexer": "ipython3",
   "version": "3.9.21"
  }
 },
 "nbformat": 4,
 "nbformat_minor": 5
}
